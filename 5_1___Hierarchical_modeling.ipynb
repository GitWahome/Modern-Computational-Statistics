{
  "nbformat": 4,
  "nbformat_minor": 0,
  "metadata": {
    "colab": {
      "name": "5.1 _ Hierarchical modeling.ipynb",
      "version": "0.3.2",
      "provenance": [],
      "include_colab_link": true
    },
    "kernelspec": {
      "display_name": "Python 3 (Anaconda 5)",
      "language": "python",
      "name": "anaconda5"
    }
  },
  "cells": [
    {
      "cell_type": "markdown",
      "metadata": {
        "id": "view-in-github",
        "colab_type": "text"
      },
      "source": [
        "<a href=\"https://colab.research.google.com/github/GitWahome/Modern-Computational-Statistics/blob/master/5_1___Hierarchical_modeling.ipynb\" target=\"_parent\"><img src=\"https://colab.research.google.com/assets/colab-badge.svg\" alt=\"Open In Colab\"/></a>"
      ]
    },
    {
      "metadata": {
        "collapsed": false,
        "id": "1xWaqyt2ifWF",
        "colab_type": "text"
      },
      "cell_type": "markdown",
      "source": [
        "## Data\n",
        "\n",
        "| Study          | TG improved      | TG not improved   | CG improved    | CG not improved   |\n",
        "|:-------------- | --------:| ------:| ------:| ------:|\n",
        "| Di Rienzo 2014 | 20       | 3      | 9      | 6      |\n",
        "| Galli 1994     | 10       | 6      | 11     | 7      |\n",
        "| Kaufman 1974   | 13       | 3      | 4      | 6      |\n",
        "| Qin 2014       | 35       | 10     | 21     | 18     |\n",
        "| Sanchez 2012   | 22       | 9      | 12     | 17     |\n",
        "| Silny 2006     | 7        | 3      | 0      | 10     |\n",
        "| **Totals**     | **107**  | **34** | **57** | **64** |\n",
        "\n",
        "* TG = Treatment group\n",
        "* CG = Control group"
      ]
    },
    {
      "metadata": {
        "collapsed": false,
        "id": "iUltbFqNifWH",
        "colab_type": "text"
      },
      "cell_type": "markdown",
      "source": [
        "## Old model\n",
        "* The same probability of success, $p$, is used in each study.\n",
        "* The probability of success is unknown and assumed to come from a uniform prior.\n",
        "\n",
        "$$\\begin{align}\n",
        "p &\\sim \\text{Beta}(\\alpha=1, \\beta=1) \\\\\n",
        "k_{i} &\\sim \\text{Binomial}(n_{i}, p) \\qquad i=1,2,\\ldots 6\n",
        "\\end{align}$$"
      ]
    },
    {
      "metadata": {
        "collapsed": false,
        "id": "3dBHCrX7ifWJ",
        "colab_type": "text"
      },
      "cell_type": "markdown",
      "source": [
        "## New model\n",
        "* A different probability of success, $p_i$, is used in each study.\n",
        "* However these probabilities are assumed to come from a common Beta prior with unknown parameters $\\alpha$ and $\\beta$.\n",
        "* An exponential prior is placed over $\\alpha$ and $\\beta$ such that almost all of the probability mass is between 0 and 10.\n",
        "\n",
        "$$\\begin{align}\n",
        "\\alpha &\\sim \\text{Exponential}(\\lambda=0.5) \\\\\n",
        "\\beta &\\sim \\text{Exponential}(\\lambda=0.5) \\\\\n",
        "p_i &\\sim \\text{Beta}(\\alpha, \\beta)\\\\\n",
        "k_{i} &\\sim \\text{Binomial}(n_{i}, p_i) \\qquad i=1,2,\\ldots 6\n",
        "\\end{align}$$"
      ]
    },
    {
      "metadata": {
        "collapsed": false,
        "id": "zVs6cko1ifWJ",
        "colab_type": "text"
      },
      "cell_type": "markdown",
      "source": [
        "## Code and results for the old model\n",
        "* Review the code for the old model, then\n",
        "* **copy the Stan code and modify** it to implement the new model above."
      ]
    },
    {
      "metadata": {
        "id": "ZOGE9BHVifWL",
        "colab_type": "code",
        "colab": {}
      },
      "cell_type": "code",
      "source": [
        "#!pip install pystan\n",
        "import pystan\n",
        "\n",
        "import numpy as np\n",
        "import matplotlib.pyplot as plt"
      ],
      "execution_count": 0,
      "outputs": []
    },
    {
      "metadata": {
        "id": "f4zVrk5HifWP",
        "colab_type": "code",
        "colab": {}
      },
      "cell_type": "code",
      "source": [
        "eczema_data = {\n",
        "    'treatment': {\n",
        "        'alpha': 1,  # fixed prior hyperparameters for the\n",
        "        'beta': 1,   # beta distribution\n",
        "        'num_trials': 6,  # number of trials in the data set\n",
        "        'patients': [23, 16, 16, 45, 31, 10],  # number of patients per trial\n",
        "        'improved': [20, 10, 13, 35, 22, 7]},  # number of improved patients per trial\n",
        "    'control': {\n",
        "        'alpha': 1,\n",
        "        'beta': 1,\n",
        "        'num_trials': 6,\n",
        "        'patients': [15, 18, 10, 39, 29, 10],\n",
        "        'improved': [9, 11, 4, 21, 12, 0]}}"
      ],
      "execution_count": 0,
      "outputs": []
    },
    {
      "metadata": {
        "id": "B7LL2rvWifWS",
        "colab_type": "code",
        "colab": {}
      },
      "cell_type": "code",
      "source": [
        "stan_code = \"\"\"\n",
        "\n",
        "// The data block contains all known quantities - typically the observed\n",
        "// data and any constant hyperparameters.\n",
        "data {\n",
        "    int<lower=1> num_trials;  // number of trials in the data set\n",
        "    int<lower=0> patients[num_trials];  // number of patients per trial\n",
        "    int<lower=0> improved[num_trials];  // number of improved patients per trial\n",
        "    real<lower=0> alpha;  // fixed prior hyperparameter\n",
        "    real<lower=0> beta;   // fixed prior hyperparameter\n",
        "}\n",
        "\n",
        "// The parameters block contains all unknown quantities - typically the\n",
        "// parameters of the model. Stan will generate samples from the posterior\n",
        "// distributions over all parameters.\n",
        "parameters {\n",
        "    real<lower=0,upper=1> p;  // probability of improvement - the\n",
        "                              // parameter of the binomial likelihood\n",
        "}\n",
        "\n",
        "// The model block contains all probability distributions in the model.\n",
        "// This of this as specifying the generative model for the scenario.\n",
        "model {\n",
        "    p ~ beta(alpha, beta);  // prior over p\n",
        "    for(i in 1:num_trials) {\n",
        "        improved[i] ~ binomial(patients[i], p);  // likelihood function\n",
        "    }\n",
        "}\n",
        "\n",
        "\"\"\""
      ],
      "execution_count": 0,
      "outputs": []
    },
    {
      "metadata": {
        "id": "1BNbwhsuifWV",
        "colab_type": "code",
        "outputId": "5a63897a-464a-4a19-8e86-2fec2eb173f2",
        "colab": {
          "base_uri": "https://localhost:8080/",
          "height": 88
        }
      },
      "cell_type": "code",
      "source": [
        "# Compile model\n",
        "\n",
        "stan_model = pystan.StanModel(model_code=stan_code)"
      ],
      "execution_count": 0,
      "outputs": [
        {
          "output_type": "stream",
          "text": [
            "INFO:pystan:COMPILING THE C++ CODE FOR MODEL anon_model_ee893fad8aee952ea79ac031a6d3875a NOW.\n",
            "/usr/local/lib/python2.7/dist-packages/Cython/Compiler/Main.py:367: FutureWarning: Cython directive 'language_level' not set, using 2 for now (Py2). This will change in a later release! File: /tmp/tmpVBeXQJ/stanfit4anon_model_ee893fad8aee952ea79ac031a6d3875a_1697600446761131264.pyx\n",
            "  tree = Parsing.p_module(s, pxd, full_module_name)\n"
          ],
          "name": "stderr"
        }
      ]
    },
    {
      "metadata": {
        "id": "7xK62-VAifWb",
        "colab_type": "code",
        "colab": {}
      },
      "cell_type": "code",
      "source": [
        "# Generate posterior samples\n",
        "\n",
        "results_treatment = stan_model.sampling(data=eczema_data['treatment'])\n",
        "results_control = stan_model.sampling(data=eczema_data['control'])"
      ],
      "execution_count": 0,
      "outputs": []
    },
    {
      "metadata": {
        "id": "THQNtnlIifWe",
        "colab_type": "code",
        "outputId": "9faee575-770a-4c22-c54b-4a5d0bb8b58f",
        "colab": {
          "base_uri": "https://localhost:8080/",
          "height": 526
        }
      },
      "cell_type": "code",
      "source": [
        "# Print Stan summary of parameter posteriors\n",
        "\n",
        "print('\\nTreatment group results:\\n')\n",
        "print(results_treatment.stansummary(pars=['p'], probs=[0.025, 0.975]))\n",
        "print('\\nControl group results:\\n')\n",
        "print(results_control.stansummary(pars=['p'], probs=[0.025, 0.975]))"
      ],
      "execution_count": 0,
      "outputs": [
        {
          "output_type": "stream",
          "text": [
            "\n",
            "Treatment group results:\n",
            "\n",
            "Inference for Stan model: anon_model_ee893fad8aee952ea79ac031a6d3875a.\n",
            "4 chains, each with iter=2000; warmup=1000; thin=1; \n",
            "post-warmup draws per chain=1000, total post-warmup draws=4000.\n",
            "\n",
            "    mean se_mean     sd   2.5%  97.5%  n_eff   Rhat\n",
            "p   0.75  8.6e-4   0.04   0.68   0.82 1739.0    1.0\n",
            "\n",
            "Samples were drawn using NUTS at Sat Nov 10 12:16:33 2018.\n",
            "For each parameter, n_eff is a crude measure of effective sample size,\n",
            "and Rhat is the potential scale reduction factor on split chains (at \n",
            "convergence, Rhat=1).\n",
            "\n",
            "Control group results:\n",
            "\n",
            "Inference for Stan model: anon_model_ee893fad8aee952ea79ac031a6d3875a.\n",
            "4 chains, each with iter=2000; warmup=1000; thin=1; \n",
            "post-warmup draws per chain=1000, total post-warmup draws=4000.\n",
            "\n",
            "    mean se_mean     sd   2.5%  97.5%  n_eff   Rhat\n",
            "p   0.47  1.1e-3   0.04   0.38   0.56 1503.0   1.01\n",
            "\n",
            "Samples were drawn using NUTS at Sat Nov 10 12:16:33 2018.\n",
            "For each parameter, n_eff is a crude measure of effective sample size,\n",
            "and Rhat is the potential scale reduction factor on split chains (at \n",
            "convergence, Rhat=1).\n"
          ],
          "name": "stdout"
        }
      ]
    },
    {
      "metadata": {
        "id": "m0ZF3LpfifWh",
        "colab_type": "code",
        "outputId": "40c025b4-268c-4a24-9558-a862350a4571",
        "colab": {
          "base_uri": "https://localhost:8080/",
          "height": 336
        }
      },
      "cell_type": "code",
      "source": [
        "# Plot posterior histograms\n",
        "\n",
        "samples_treatment = results_treatment.extract()\n",
        "samples_control = results_control.extract()\n",
        "\n",
        "plt.figure(figsize=(8,4))\n",
        "plt.hist(samples_treatment['p'], bins=50, density=True, label='treatment')\n",
        "plt.hist(samples_control['p'], bins=50, density=True, label='control')\n",
        "plt.title('Sampled posterior probability density for p')\n",
        "plt.legend()\n",
        "plt.show()\n",
        "\n",
        "print('Posterior 95% interval over p for treatment:', np.percentile(samples_treatment['p'], [2.5, 97.5]))\n",
        "print('Posterior 95% interval over p for control:', np.percentile(samples_control['p'], [2.5, 97.5]))"
      ],
      "execution_count": 0,
      "outputs": [
        {
          "output_type": "display_data",
          "data": {
            "image/png": "[encoded data removed]",
            "text/plain": [
              "<matplotlib.figure.Figure at 0x7fd583819050>"
            ]
          },
          "metadata": {
            "tags": []
          }
        },
        {
          "output_type": "stream",
          "text": [
            "('Posterior 95% interval over p for treatment:', array([0.68089618, 0.82163354]))\n",
            "('Posterior 95% interval over p for control:', array([0.38385688, 0.56020265]))\n"
          ],
          "name": "stdout"
        }
      ]
    },
    {
      "metadata": {
        "collapsed": false,
        "id": "UZFTn93rifWl",
        "colab_type": "text"
      },
      "cell_type": "markdown",
      "source": [
        "## Tasks\n",
        "Work through as many of these tasks as you can, but do at least the first 4.\n",
        "\n",
        "1. Copy the Stan code above and modify it to have a different $p_i$ per study and a prior over $\\alpha$ and $\\beta$.\n",
        "   1. Make the `p` parameter a list of length `num_trials` rather than a single value.\n",
        "   2. Make `alpha` and `beta` parameters rather than data.\n",
        "   3. Put a prior on `alpha` and `beta`. Do this in the model block of the Stan code.\n",
        "   4. Further modify the model block of the Stan code so that each `p[i]` is generated independently from the Beta(α,β) distribution.\n",
        "2. Compile the model (this will take at least 1 minute).\n",
        "3. Generate inference results using the `sampling` function.\n",
        "4. Print out the Stan summary of the results.\n",
        "    * Remember to include α and β in the list of parameters so you can see their posterior values.\n",
        "    * **If your results don't make sense, check your Stan code for bugs.**\n",
        "    * It's easy to make mistakes.\n",
        "5. Plot a histogram of the posterior over $\\alpha$ and $\\beta$ for the treatment and control groups.\n",
        "    1. How do these inferred values for $\\alpha$ and $\\beta$ differ from our original setting $\\alpha = \\beta = 1$?\n",
        "    2. What do these posteriors over $\\alpha$ and $\\beta$ tell us about the difference between the treatment and control groups?\n",
        "    3. What do these posteriors over $\\alpha$ and $\\beta$ tell us about what to expect from future medical studies?\n",
        "6. Plot histograms over the posteriors over $p_1, p_2, ..., p_6$ for the treatment and control groups.\n",
        "    * Based on these posteriors, do you think the $p_i$ really are different between the different studies?\n",
        "    * Or are they the same?\n",
        "\n",
        "The new model, repeated for convenience:\n",
        "$$\\begin{align}\n",
        "\\alpha &\\sim \\text{Exponential}(\\lambda=0.5) \\\\\n",
        "\\beta &\\sim \\text{Exponential}(\\lambda=0.5) \\\\\n",
        "p_i &\\sim \\text{Beta}(\\alpha, \\beta)\\\\\n",
        "k_{i} &\\sim \\text{Binomial}(n_{i}, p_i) \\qquad i=1,2,\\ldots 6\n",
        "\\end{align}$$"
      ]
    },
    {
      "metadata": {
        "id": "Grpo5pUnifWl",
        "colab_type": "code",
        "colab": {}
      },
      "cell_type": "code",
      "source": [
        "stan_code = \"\"\"\n",
        "\n",
        "// The data block contains all known quantities - typically the observed\n",
        "// data and any constant hyperparameters.\n",
        "data {\n",
        "    int<lower=1> num_trials;  // number of trials in the data set\n",
        "    int<lower=0> patients[num_trials];  // number of patients per trial\n",
        "    int<lower=0> improved[num_trials];  // number of improved patients per trial\n",
        "    real<lower=0> lambda_a;\n",
        "    real<lower=0> lambda_b;\n",
        "}\n",
        "\n",
        "// The parameters block contains all unknown quantities - typically the\n",
        "// parameters of the model. Stan will generate samples from the posterior\n",
        "// distributions over all parameters.\n",
        "parameters {\n",
        "    real<lower=0,upper=1> p[num_trials];  // probability of improvement - the\n",
        "                              // parameter of the binomial likelihood\n",
        "    real<lower=0> alpha;  // fixed prior hyperparameter\n",
        "    real<lower=0> beta;   // fixed prior hyperparameter\n",
        "}\n",
        "\n",
        "// The model block contains all probability distributions in the model.\n",
        "// This of this as specifying the generative model for the scenario.\n",
        "model {\n",
        "    alpha ~ exponential(lambda_a);\n",
        "    beta ~ exponential(lambda_b);\n",
        "    for(i in 1:num_trials) {\n",
        "        improved[i] ~ binomial(patients[i], p[i]);  // likelihood function\n",
        "        p[i] ~ beta(alpha, beta);  // prior over p;\n",
        "     \n",
        "    }\n",
        "}\n",
        "\n",
        "\"\"\""
      ],
      "execution_count": 0,
      "outputs": []
    },
    {
      "metadata": {
        "id": "ae2ZP-REifWp",
        "colab_type": "code",
        "outputId": "5115c00b-863e-422d-b9af-1e1e88caf119",
        "colab": {
          "base_uri": "https://localhost:8080/",
          "height": 92
        }
      },
      "cell_type": "code",
      "source": [
        "# Compile the model\n",
        "stan_model = pystan.StanModel(model_code=stan_code)"
      ],
      "execution_count": 0,
      "outputs": [
        {
          "output_type": "stream",
          "text": [
            "INFO:pystan:COMPILING THE C++ CODE FOR MODEL anon_model_ceebec28fbc4656da8361e3f978fce20 NOW.\n",
            "/usr/local/lib/python2.7/dist-packages/Cython/Compiler/Main.py:367: FutureWarning: Cython directive 'language_level' not set, using 2 for now (Py2). This will change in a later release! File: /tmp/tmpUYzrBx/stanfit4anon_model_ceebec28fbc4656da8361e3f978fce20_8863803532383583334.pyx\n",
            "  tree = Parsing.p_module(s, pxd, full_module_name)\n"
          ],
          "name": "stderr"
        }
      ]
    },
    {
      "metadata": {
        "id": "M2Ii36cYifWr",
        "colab_type": "code",
        "colab": {}
      },
      "cell_type": "code",
      "source": [
        "eczema_data_new = {\n",
        "    'treatment': {\n",
        "        'lambda_a': 0.5,  # fixed prior hyperparameters for the\n",
        "        'lambda_b': 0.5,   # beta distribution\n",
        "        'num_trials': 6,  # number of trials in the data set\n",
        "        'patients': [23, 16, 16, 45, 31, 10],  # number of patients per trial\n",
        "        'improved': [20, 10, 13, 35, 22, 7]},  # number of improved patients per trial\n",
        "    'control': {\n",
        "        'lambda_a': 0.5,\n",
        "        'lambda_b': 0.5,\n",
        "        'num_trials': 6,\n",
        "        'patients': [15, 18, 10, 39, 29, 10],\n",
        "        'improved': [9, 11, 4, 21, 12, 0]}}"
      ],
      "execution_count": 0,
      "outputs": []
    },
    {
      "metadata": {
        "id": "L2u2WqyrifWv",
        "colab_type": "code",
        "colab": {}
      },
      "cell_type": "code",
      "source": [
        "# Generate posterior samples\n",
        "\n",
        "results_treatment = stan_model.sampling(data=eczema_data_new['treatment'])\n",
        "results_control = stan_model.sampling(data=eczema_data_new['control'])"
      ],
      "execution_count": 0,
      "outputs": []
    },
    {
      "metadata": {
        "id": "u_e_5Tt6ifWy",
        "colab_type": "code",
        "outputId": "998bd8be-82eb-48a8-a7be-9c54028b167a",
        "colab": {
          "base_uri": "https://localhost:8080/",
          "height": 708
        }
      },
      "cell_type": "code",
      "source": [
        "# Print Stan summary of parameter posteri# Print Stan summary of parameter posteriors\n",
        "\n",
        "print('\\nTreatment group results:\\n')\n",
        "print(results_treatment.stansummary(pars=['p'], probs=[0.025, 0.975]))\n",
        "print('\\nControl group results:\\n')\n",
        "print(results_control.stansummary(pars=['p'], probs=[0.025, 0.975]))\n"
      ],
      "execution_count": 0,
      "outputs": [
        {
          "output_type": "stream",
          "text": [
            "\n",
            "Treatment group results:\n",
            "\n",
            "Inference for Stan model: anon_model_ceebec28fbc4656da8361e3f978fce20.\n",
            "4 chains, each with iter=2000; warmup=1000; thin=1; \n",
            "post-warmup draws per chain=1000, total post-warmup draws=4000.\n",
            "\n",
            "       mean se_mean     sd   2.5%  97.5%  n_eff   Rhat\n",
            "p[1]   0.83  1.1e-3   0.07   0.68   0.95 4128.0    1.0\n",
            "p[2]   0.65  1.6e-3    0.1   0.44   0.83 3854.0    1.0\n",
            "p[3]   0.79  1.3e-3   0.09    0.6   0.93 4282.0    1.0\n",
            "p[4]   0.77  8.5e-4   0.06   0.65   0.87 4722.0    1.0\n",
            "p[5]   0.71  1.2e-3   0.08   0.55   0.84 4236.0    1.0\n",
            "p[6]   0.71  1.6e-3   0.11   0.47   0.89 4583.0    1.0\n",
            "\n",
            "Samples were drawn using NUTS at Sat Nov 10 12:18:01 2018.\n",
            "For each parameter, n_eff is a crude measure of effective sample size,\n",
            "and Rhat is the potential scale reduction factor on split chains (at \n",
            "convergence, Rhat=1).\n",
            "\n",
            "Control group results:\n",
            "\n",
            "Inference for Stan model: anon_model_ceebec28fbc4656da8361e3f978fce20.\n",
            "4 chains, each with iter=2000; warmup=1000; thin=1; \n",
            "post-warmup draws per chain=1000, total post-warmup draws=4000.\n",
            "\n",
            "       mean se_mean     sd   2.5%  97.5%  n_eff   Rhat\n",
            "p[1]   0.56  1.8e-3   0.11   0.33   0.78 3852.0    1.0\n",
            "p[2]   0.57  1.6e-3    0.1   0.37   0.77 4023.0    1.0\n",
            "p[3]   0.41  1.8e-3   0.13   0.18   0.67 5099.0    1.0\n",
            "p[4]   0.53  1.0e-3   0.07   0.38   0.67 5107.0    1.0\n",
            "p[5]   0.42  1.3e-3   0.09   0.25   0.59 4296.0    1.0\n",
            "p[6]   0.14  1.7e-3    0.1 2.5e-3   0.37 3563.0    1.0\n",
            "\n",
            "Samples were drawn using NUTS at Sat Nov 10 12:18:02 2018.\n",
            "For each parameter, n_eff is a crude measure of effective sample size,\n",
            "and Rhat is the potential scale reduction factor on split chains (at \n",
            "convergence, Rhat=1).\n"
          ],
          "name": "stdout"
        }
      ]
    },
    {
      "metadata": {
        "scrolled": true,
        "id": "S1SCld8CifW3",
        "colab_type": "code",
        "outputId": "5a49e63a-b7c9-48b0-8b8f-62ff08f5f8d3",
        "colab": {
          "base_uri": "https://localhost:8080/",
          "height": 297
        }
      },
      "cell_type": "code",
      "source": [
        "# Generate posterior samples\n",
        "%matplotlib inline\n",
        "samples_treatment = results_treatment.extract()\n",
        "samples_control = results_control.extract()\n",
        "\n",
        "params = [\"alpha\", \"beta\"]\n",
        "for index, param in enumerate(params):\n",
        "    plt.subplot(121+index)\n",
        "    plt.hist(samples_treatment[param], bins=50, density=True, label='treatment')\n",
        "    plt.hist(samples_control[param], bins=50, density=True, label='control')\n",
        "    plt.legend()\n",
        "    plt.title(\"Distribution over param: {}\".format(param))\n",
        "\n",
        "plt.tight_layout()\n",
        "plt.show()\n",
        "\n",
        "# Plot posterior histograms over alpha and beta for the treatment and control groups\n"
      ],
      "execution_count": 0,
      "outputs": [
        {
          "output_type": "display_data",
          "data": {
            "image/png": "[encoded data removed]",
            "text/plain": [
              "<matplotlib.figure.Figure at 0x7fd57bda9a50>"
            ]
          },
          "metadata": {
            "tags": []
          }
        }
      ]
    },
    {
      "metadata": {
        "scrolled": true,
        "id": "oLyel0rdifW7",
        "colab_type": "code",
        "outputId": "dddb32ab-ac24-4226-d62c-d92a20cc3a94",
        "colab": {
          "base_uri": "https://localhost:8080/",
          "height": 280
        }
      },
      "cell_type": "code",
      "source": [
        "plt.subplot(2,1,1)\n",
        "plt.hist(samples_treatment['alpha'], bins=50, density=True, label='treatment')\n",
        "\n",
        "plt.hist(samples_control['alpha'], bins=50, density=True, label='control')\n",
        "plt.title('alpha')\n",
        "plt.legend()\n",
        "\n",
        "plt.subplot(2,1,2)\n",
        "plt.hist(samples_treatment['beta'], bins=50, density=True, label='treatment')\n",
        "\n",
        "plt.hist(samples_control['beta'], bins=50, density=True, label='control')\n",
        "plt.title('beta')\n",
        "plt.legend()\n",
        "plt.show()"
      ],
      "execution_count": 0,
      "outputs": [
        {
          "output_type": "display_data",
          "data": {
            "image/png": "[encoded data removed]",
            "text/plain": [
              "<matplotlib.figure.Figure at 0x7fd5801da4d0>"
            ]
          },
          "metadata": {
            "tags": []
          }
        }
      ]
    },
    {
      "metadata": {
        "scrolled": true,
        "id": "HZFypyEdifW9",
        "colab_type": "code",
        "outputId": "547f0f36-2bad-4c72-a344-ad88fd76e91f",
        "colab": {
          "base_uri": "https://localhost:8080/",
          "height": 280
        }
      },
      "cell_type": "code",
      "source": [
        "# Plot posterior histograms over p_i for the treatment and control groups\n",
        "for _ in range(6):\n",
        "    plt.subplot(2,3,_+1)\n",
        "    plt.hist(samples_treatment['p'][:,_], bins=50, density=True, label='treatment')\n",
        "\n",
        "    plt.hist(samples_control['p'][:,_], bins=50, density=True, label='control')\n",
        "    plt.title('p_{}'.format(_))\n",
        "    plt.legend()\n",
        "plt.show()"
      ],
      "execution_count": 0,
      "outputs": [
        {
          "output_type": "display_data",
          "data": {
            "image/png": "[encoded data removed]",
            "text/plain": [
              "<matplotlib.figure.Figure at 0x7fd5801e1410>"
            ]
          },
          "metadata": {
            "tags": []
          }
        }
      ]
    },
    {
      "metadata": {
        "id": "2I_8S2hHifXA",
        "colab_type": "code",
        "outputId": "9a703b0b-67d3-4213-826e-37975a385b38",
        "colab": {
          "base_uri": "https://localhost:8080/",
          "height": 51
        }
      },
      "cell_type": "code",
      "source": [
        "samples_treatment['p'][:,0]"
      ],
      "execution_count": 0,
      "outputs": [
        {
          "output_type": "execute_result",
          "data": {
            "text/plain": [
              "array([0.89085941, 0.59967878, 0.86792407, ..., 0.87610996, 0.76231693,\n",
              "       0.83614047])"
            ]
          },
          "metadata": {
            "tags": []
          },
          "execution_count": 20
        }
      ]
    }
  ]
}