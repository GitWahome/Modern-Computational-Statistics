{
  "nbformat": 4,
  "nbformat_minor": 0,
  "metadata": {
    "colab": {
      "name": "Assignment 4,CS146.ipynb",
      "version": "0.3.2",
      "provenance": [],
      "collapsed_sections": [],
      "include_colab_link": true
    },
    "kernelspec": {
      "name": "python3",
      "display_name": "Python 3"
    }
  },
  "cells": [
    {
      "cell_type": "markdown",
      "metadata": {
        "id": "view-in-github",
        "colab_type": "text"
      },
      "source": [
        "<a href=\"https://colab.research.google.com/github/GitWahome/Modern-Computational-Statistics/blob/master/Assignment_4,CS146.ipynb\" target=\"_parent\"><img src=\"https://colab.research.google.com/assets/colab-badge.svg\" alt=\"Open In Colab\"/></a>"
      ]
    },
    {
      "metadata": {
        "id": "SI3mE4Y_r42B",
        "colab_type": "text"
      },
      "cell_type": "markdown",
      "source": [
        "Imports"
      ]
    },
    {
      "metadata": {
        "id": "GPj8n-oQrB8u",
        "colab_type": "code",
        "colab": {}
      },
      "cell_type": "code",
      "source": [
        "import pandas as pd\n",
        "from scipy.stats import beta\n",
        "from scipy.stats import binom\n",
        "import matplotlib.pyplot as plt\n",
        "import numpy as np"
      ],
      "execution_count": 0,
      "outputs": []
    },
    {
      "metadata": {
        "id": "bOcEQf9zr7BR",
        "colab_type": "text"
      },
      "cell_type": "markdown",
      "source": [
        "Control data loading"
      ]
    },
    {
      "metadata": {
        "id": "02nW2jwkpUUe",
        "colab_type": "code",
        "outputId": "99430e51-85e1-4072-a6c7-d3316ad502c1",
        "colab": {
          "base_uri": "https://localhost:8080/",
          "height": 254
        }
      },
      "cell_type": "code",
      "source": [
        "data_control = pd.DataFrame({\"groups\":[\"Di Rienzo 2014\",\"Galli 1994\",\"Kaufman 1974\",\"Qin 2014\",\"Sanchez 2012\", \"Silny 2006\", \"Totals\"],\n",
        "                \"probability of success\":[0.6,0.61,0.4,0.54,0.41,0,0.47]\n",
        "               })\n",
        "data_control"
      ],
      "execution_count": 3,
      "outputs": [
        {
          "output_type": "execute_result",
          "data": {
            "text/html": [
              "<div>\n",
              "<style scoped>\n",
              "    .dataframe tbody tr th:only-of-type {\n",
              "        vertical-align: middle;\n",
              "    }\n",
              "\n",
              "    .dataframe tbody tr th {\n",
              "        vertical-align: top;\n",
              "    }\n",
              "\n",
              "    .dataframe thead th {\n",
              "        text-align: right;\n",
              "    }\n",
              "</style>\n",
              "<table border=\"1\" class=\"dataframe\">\n",
              "  <thead>\n",
              "    <tr style=\"text-align: right;\">\n",
              "      <th></th>\n",
              "      <th>groups</th>\n",
              "      <th>probability of success</th>\n",
              "    </tr>\n",
              "  </thead>\n",
              "  <tbody>\n",
              "    <tr>\n",
              "      <th>0</th>\n",
              "      <td>Di Rienzo 2014</td>\n",
              "      <td>0.60</td>\n",
              "    </tr>\n",
              "    <tr>\n",
              "      <th>1</th>\n",
              "      <td>Galli 1994</td>\n",
              "      <td>0.61</td>\n",
              "    </tr>\n",
              "    <tr>\n",
              "      <th>2</th>\n",
              "      <td>Kaufman 1974</td>\n",
              "      <td>0.40</td>\n",
              "    </tr>\n",
              "    <tr>\n",
              "      <th>3</th>\n",
              "      <td>Qin 2014</td>\n",
              "      <td>0.54</td>\n",
              "    </tr>\n",
              "    <tr>\n",
              "      <th>4</th>\n",
              "      <td>Sanchez 2012</td>\n",
              "      <td>0.41</td>\n",
              "    </tr>\n",
              "    <tr>\n",
              "      <th>5</th>\n",
              "      <td>Silny 2006</td>\n",
              "      <td>0.00</td>\n",
              "    </tr>\n",
              "    <tr>\n",
              "      <th>6</th>\n",
              "      <td>Totals</td>\n",
              "      <td>0.47</td>\n",
              "    </tr>\n",
              "  </tbody>\n",
              "</table>\n",
              "</div>"
            ],
            "text/plain": [
              "           groups  probability of success\n",
              "0  Di Rienzo 2014                    0.60\n",
              "1      Galli 1994                    0.61\n",
              "2    Kaufman 1974                    0.40\n",
              "3        Qin 2014                    0.54\n",
              "4    Sanchez 2012                    0.41\n",
              "5      Silny 2006                    0.00\n",
              "6          Totals                    0.47"
            ]
          },
          "metadata": {
            "tags": []
          },
          "execution_count": 3
        }
      ]
    },
    {
      "metadata": {
        "id": "FYQc8mNou_0_",
        "colab_type": "text"
      },
      "cell_type": "markdown",
      "source": [
        "The test statistics we will evaluate for the data are the mean and standard deviation."
      ]
    },
    {
      "metadata": {
        "id": "IP7oXpZovKnc",
        "colab_type": "code",
        "outputId": "7f6f5ea8-e0da-4401-8b19-0ef63e78461f",
        "colab": {
          "base_uri": "https://localhost:8080/",
          "height": 50
        }
      },
      "cell_type": "code",
      "source": [
        "def significant_stats(data):\n",
        "  mean, standardv = np.mean(data), np.std(data)\n",
        "  print(\"The mean of the data provided is {} \\nThe standard deviation is {}\"\n",
        "        .format(mean,standardv))\n",
        "  return mean, standardv\n",
        "data_mean, data_std = significant_stats(data = data_control[\"probability of success\"][:-1])"
      ],
      "execution_count": 4,
      "outputs": [
        {
          "output_type": "stream",
          "text": [
            "The mean of the data provided is 0.4266666666666667 \n",
            "The standard deviation is 0.20797969986408663\n"
          ],
          "name": "stdout"
        }
      ]
    },
    {
      "metadata": {
        "id": "AuiTI15nuEgT",
        "colab_type": "text"
      },
      "cell_type": "markdown",
      "source": [
        "From the notebook, we have the posterior distribution for the control group provided as Beta(theta_c|58, 65)\n",
        "\n",
        "I will use scipy.stats.beta to generate samples from this distribution.\n",
        "\n",
        "---\n",
        "\n"
      ]
    },
    {
      "metadata": {
        "id": "UZSDL51JrFiO",
        "colab_type": "code",
        "outputId": "98b834b9-5442-409a-99cd-8a359b59c762",
        "colab": {
          "base_uri": "https://localhost:8080/",
          "height": 378
        }
      },
      "cell_type": "code",
      "source": [
        "fig, ax = plt.subplots(1, 1)\n",
        "plt.title(\"PDF of the Posterior Beta distribution with alpha = 58, beta = 65\")\n",
        "a, b = 58, 65\n",
        "mean, var, skew, kurt = beta.stats(a, b, moments='mvsk')\n",
        "x = np.linspace(beta.ppf(0.01, a, b), beta.ppf(0.99, a, b), 100)\n",
        "ax.plot(x, beta.pdf(x, a, b),'r-', lw=5, alpha=0.6, label='beta pdf')"
      ],
      "execution_count": 5,
      "outputs": [
        {
          "output_type": "execute_result",
          "data": {
            "text/plain": [
              "[<matplotlib.lines.Line2D at 0x7fceb1e2e940>]"
            ]
          },
          "metadata": {
            "tags": []
          },
          "execution_count": 5
        },
        {
          "output_type": "display_data",
          "data": {
            "image/png": "[encoded data removed]",
            "text/plain": [
              "<matplotlib.figure.Figure at 0x7fceb1e2e978>"
            ]
          },
          "metadata": {
            "tags": []
          }
        }
      ]
    },
    {
      "metadata": {
        "id": "jXpvFr1TzeuA",
        "colab_type": "text"
      },
      "cell_type": "markdown",
      "source": [
        "I will generate 1000 random samples from the beta posterior and then evaluating the standard deviation of the generated samples. I generate samples of the same size as the data, 6. If the beta posterior is a good fit for our data, we expect that the difference between the generated sample standard deviation and our actual standard deviation would be centered around 0. If not, then there would be a discrepancy in our model. \n",
        "\n",
        "\n",
        "\n",
        "---\n",
        "\n"
      ]
    },
    {
      "metadata": {
        "id": "VIQOwrg-0FVz",
        "colab_type": "code",
        "colab": {}
      },
      "cell_type": "code",
      "source": [
        "#The test statistic I used to evaluate if the model was suitable was the skew of the standard deviation from the data standard dev\n",
        "def test_statistic(data_std = data_std):\n",
        "  #Generate 1000 posterior samples and find their standard deviations\n",
        "  posterior_sample_stds = [np.std(beta.rvs(a, b, size=6)) for i in range(1000)]\n",
        "  #Find the difference between these samples and the data standard deviation\n",
        "  return posterior_sample_stds - data_std\n",
        "difference_std = test_statistic()"
      ],
      "execution_count": 0,
      "outputs": []
    },
    {
      "metadata": {
        "id": "5j9NL-uVQbvC",
        "colab_type": "text"
      },
      "cell_type": "markdown",
      "source": [
        "Now to print a histogram showing the distribution of the differences"
      ]
    },
    {
      "metadata": {
        "id": "GoDAm-djQa6A",
        "colab_type": "code",
        "outputId": "f0592b93-b962-4610-a95a-01fe96c3ea4a",
        "colab": {
          "base_uri": "https://localhost:8080/",
          "height": 389
        }
      },
      "cell_type": "code",
      "source": [
        "plt.figure(figsize=(12, 6))\n",
        "plt.hist(difference_std, bins=20, alpha=0.5, density=True)\n",
        "plt.axvline(0)\n",
        "plt.title('Test statistic:Difference between sample stdev and data stdev. P-value: %.3f' % (np.mean(np.array(difference_std) < 0)))\n",
        "plt.show()"
      ],
      "execution_count": 7,
      "outputs": [
        {
          "output_type": "display_data",
          "data": {
            "image/png": "[encoded data removed]",
            "text/plain": [
              "<matplotlib.figure.Figure at 0x7fceb1da9dd8>"
            ]
          },
          "metadata": {
            "tags": []
          }
        }
      ]
    },
    {
      "metadata": {
        "id": "oZ3kPCFi-nuq",
        "colab_type": "text"
      },
      "cell_type": "markdown",
      "source": [
        "Well, Ideally, we would like to have a p value at around 0.5 which would imply that 50% of the data was above 0 and 50% below 0. This is a good situation since it means the model we have has a standard deviation similar to the data standard deviation because they would have little difference. But at 1 or 0, in our case 1, almost all the data generated have standard deviations that are different fom the actual data standard deviation. This is absolutely terrible. Our model essentially is not fit for our data. While they may have similar means, the scatter of the data as predicted by the model is completely different from that of our actual data thus the posterior model is not a good fit for our data."
      ]
    }
  ]
}